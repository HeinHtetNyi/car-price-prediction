{
 "cells": [
  {
   "cell_type": "code",
   "execution_count": 33,
   "metadata": {},
   "outputs": [
    {
     "name": "stdout",
     "output_type": "stream",
     "text": [
      "Manufacturer\n",
      "HYUNDAI          3769\n",
      "TOYOTA           3662\n",
      "MERCEDES-BENZ    2076\n",
      "FORD             1111\n",
      "CHEVROLET        1069\n",
      "                 ... \n",
      "TESLA               1\n",
      "PONTIAC             1\n",
      "SATURN              1\n",
      "ASTON MARTIN        1\n",
      "GREATWALL           1\n",
      "Name: count, Length: 65, dtype: int64\n",
      "(19237, 18)\n"
     ]
    }
   ],
   "source": [
    "import pandas as pd\n",
    "\n",
    "df = pd.read_csv(\"./car_prices.csv\")\n",
    "\n",
    "# print(df.columns)\n",
    "# print(df.info())\n",
    "\n",
    "print(df[\"Manufacturer\"].value_counts())\n",
    "print(df.shape)"
   ]
  },
  {
   "cell_type": "code",
   "execution_count": 34,
   "metadata": {},
   "outputs": [
    {
     "data": {
      "text/plain": [
       "(11696, 18)"
      ]
     },
     "execution_count": 34,
     "metadata": {},
     "output_type": "execute_result"
    }
   ],
   "source": [
    "# Delete Less Model rows\n",
    "car_models_counts = df[\"Model\"].value_counts()\n",
    "keep_car_models = car_models_counts[car_models_counts > 100].index\n",
    "df = df[df[\"Model\"].isin(keep_car_models)]\n",
    "df.shape"
   ]
  },
  {
   "cell_type": "code",
   "execution_count": 35,
   "metadata": {},
   "outputs": [
    {
     "data": {
      "text/plain": [
       "(11611, 18)"
      ]
     },
     "execution_count": 35,
     "metadata": {},
     "output_type": "execute_result"
    }
   ],
   "source": [
    "# Delete Less Manufacturer rows\n",
    "manufacturer_counts = df[\"Manufacturer\"].value_counts()\n",
    "keep_manufacturers = manufacturer_counts[manufacturer_counts > 100].index\n",
    "df = df[df[\"Manufacturer\"].isin(keep_manufacturers)]\n",
    "\n",
    "df.shape"
   ]
  },
  {
   "cell_type": "code",
   "execution_count": 36,
   "metadata": {},
   "outputs": [
    {
     "data": {
      "text/plain": [
       "(11611, 7)"
      ]
     },
     "execution_count": 36,
     "metadata": {},
     "output_type": "execute_result"
    }
   ],
   "source": [
    "interested_columns = [\"Manufacturer\", \"Model\", \"Prod. year\", \"Color\", \"Engine volume\", \"Mileage\", \"Price\"]\n",
    "df = df[interested_columns]\n",
    "df[\"Engine volume\"] = df[\"Engine volume\"].apply(lambda x: float(x.split(\" \")[0]))\n",
    "df[\"Mileage\"] = df[\"Mileage\"].apply(lambda x: float(x.split(\" \")[0]))\n",
    "df.drop_duplicates()\n",
    "df.dropna()\n",
    "\n",
    "df.shape"
   ]
  },
  {
   "cell_type": "code",
   "execution_count": 37,
   "metadata": {},
   "outputs": [],
   "source": [
    "df.to_csv(\"ready.csv\", index_label=\"Id\")"
   ]
  }
 ],
 "metadata": {
  "kernelspec": {
   "display_name": "DE",
   "language": "python",
   "name": "python3"
  },
  "language_info": {
   "codemirror_mode": {
    "name": "ipython",
    "version": 3
   },
   "file_extension": ".py",
   "mimetype": "text/x-python",
   "name": "python",
   "nbconvert_exporter": "python",
   "pygments_lexer": "ipython3",
   "version": "3.12.2"
  }
 },
 "nbformat": 4,
 "nbformat_minor": 2
}
